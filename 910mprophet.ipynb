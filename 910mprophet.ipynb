{
 "cells": [
  {
   "cell_type": "markdown",
   "id": "8a95d62c",
   "metadata": {},
   "source": [
    "***GENERATED CODE FOR 910mprophet PIPELINE.***"
   ]
  },
  {
   "cell_type": "markdown",
   "id": "1706b42c",
   "metadata": {},
   "source": [
    "***DON'T EDIT THIS CODE.***"
   ]
  },
  {
   "cell_type": "markdown",
   "id": "229d60f2",
   "metadata": {},
   "source": [
    "***CONNECTOR FUNCTIONS TO READ DATA.***"
   ]
  },
  {
   "cell_type": "code",
   "execution_count": null,
   "id": "29f18ceb",
   "metadata": {},
   "outputs": [],
   "source": [
    "import os\n",
    "import pandas as pd\n",
    "from hdfs3 import HDFileSystem\n",
    "import datetime\n",
    "import logging\n",
    "import warnings\n",
    "warnings.filterwarnings('ignore')\n",
    "logging.basicConfig(format='%(levelname)s:%(message)s', level=logging.INFO)\n",
    "\n",
    "\n",
    "class HDFSConnector:\n",
    "\n",
    "    def fetch(spark, config):\n",
    "        ################### INPUT HADOOP HOST PORT TO CONNECT WITH ###############################\n",
    "        hdfs_server = str(os.environ['HDFS_SERVER'])\n",
    "        hdfs_port = int(os.environ['HDFS_PORT'])\n",
    "        hdfs = HDFileSystem(host=hdfs_server, port=hdfs_port)\n",
    "        #hdfs = HDFileSystem(host=eval(config)['host'], port=eval(config)['port'])\n",
    "        with hdfs.open(eval(config)['url']) as f:\n",
    "            dfPd = pd.read_csv(f, error_bad_lines=False)\n",
    "        df = spark.createDataFrame(dfPd)\n",
    "        display(df.limit(2).toPandas())\n",
    "        return df\n",
    "\n",
    "    def put(df, spark, config):\n",
    "        return df.write.format('csv').options(header='true' if eval(config)[\"is_header\"] == \"Use Header Line\" else 'false',\n",
    "                                              delimiter=eval(config)[\"delimiter\"]).save((\"%s %s\") % (datetime.datetime.now().strftime(\"%Y-%m-%d %H.%M.%S\")+\"_\", eval(config)['url']))\n"
   ]
  },
  {
   "cell_type": "markdown",
   "id": "8632ebd8",
   "metadata": {},
   "source": [
    "***TRANSFORMATIONS FUNCTIONS THAT WILL BE APPLIED ON DATA***"
   ]
  },
  {
   "cell_type": "code",
   "execution_count": null,
   "id": "a6913af3",
   "metadata": {},
   "outputs": [],
   "source": [
    "import json\n",
    "import pyspark\n",
    "from pyspark.sql.functions import col, when\n",
    "from pyspark.sql.functions import mean, stddev, min, max, col\n",
    "\n",
    "\n",
    "class CleanseData:\n",
    "    # def __init__(self,df):\n",
    "    #     #print()\n",
    "\n",
    "    def replaceByMean(self, feature, df, mean_=-1):\n",
    "\n",
    "        meanValue = df.select(mean(col(feature.name)).alias(\n",
    "            'mean')).collect()[0][\"mean\"]\n",
    "        df.fillna(meanValue, subset=[feature.name])\n",
    "        df.withColumn(feature.name, when(col(feature.name) == \" \",\n",
    "                      meanValue).otherwise(col(feature.name).cast(\"Integer\")))\n",
    "        return df\n",
    "\n",
    "    def replaceByMax(self, feature, df, max_=-1):\n",
    "        maxValue = df.select(max(col(feature.name)).alias('max')).collect()[\n",
    "            0][\"max\"]\n",
    "        df.fillna(maxValue, subset=[feature.name])\n",
    "        df = df.withColumn(feature.name,\n",
    "                           when(col(feature.name) == \" \", maxValue).otherwise(col(feature.name)))\n",
    "        return df\n",
    "\n",
    "    def replaceByMin(self, feature, df, min_=-1):\n",
    "        minValue = df.select(min(col(feature.name)).alias('min')).collect()[\n",
    "            0][\"min\"]\n",
    "        df.fillna(minValue, subset=[feature.name])\n",
    "        df = df.withColumn(feature.name,\n",
    "                           when(col(feature.name) == \" \", minValue).otherwise(col(feature.name)))\n",
    "        return df\n",
    "\n",
    "    def replaceByStandardDeviation(self, feature, df, stddev_=-1):\n",
    "        stddevValue = df.select(stddev(col(feature.name)).alias(\n",
    "            'stddev')).collect()[0][\"stddev\"]\n",
    "        df.fillna(stddevValue, subset=[feature.name])\n",
    "        df = df.withColumn(feature.name,\n",
    "                           when(col(feature.name) == \" \", stddevValue).otherwise(col(feature.name)))\n",
    "        return df\n",
    "\n",
    "    def replaceDateRandomly(self, feature, df):\n",
    "        fillValue = df.where(col(feature.name).isNotNull()\n",
    "                             ).head(1)[0][feature.name]\n",
    "        df.fillna(str(fillValue), subset=[feature.name])\n",
    "        df = df.withColumn(feature.name,\n",
    "                           when(col(feature.name) == \" \", fillValue).otherwise(col(feature.name)))\n",
    "        # print(\"CleanseData:replaceDateRandomly Schema : \", df.#printSchema())\n",
    "        return df\n",
    "\n",
    "    def replaceNullValues(self, fList, df):\n",
    "        featuresList = df.schema.fields\n",
    "        for featureObj in fList:\n",
    "            for feat in featuresList:\n",
    "                if featureObj[\"feature\"] in feat.name:\n",
    "                    featureName = feat\n",
    "                    if \"mean\" in featureObj[\"replaceby\"]:\n",
    "                        df = self.replaceByMean(featureName, df)\n",
    "                    elif \"max\" in featureObj[\"replaceby\"]:\n",
    "                        df = self.replaceByMax(featureName, df)\n",
    "                    elif \"min\" in featureObj[\"replaceby\"]:\n",
    "                        df = self.replaceByMin(featureName, df)\n",
    "                    elif \"stddev\" in featureObj[\"replaceby\"]:\n",
    "                        df = self.replaceByStandardDeviation(featureName, df)\n",
    "                    elif \"random\" in featureObj[\"replaceby\"]:\n",
    "                        df = self.replaceDateRandomly(featureName, df)\n",
    "        return df\n",
    "\n",
    "\n",
    "class TransformationTimeSeriesForecastingMain:\n",
    "    # TODO: change df argument in run with following\n",
    "    def run(transformationDF, config):\n",
    "        configObj = json.loads(config)\n",
    "        featureData = configObj[\"FE\"]['featureList']\n",
    "        ForecastFE = configObj[\"FE\"]\n",
    "        featuresSelectedList = [ForecastFE['features']\n",
    "                                ['timecolumn'], ForecastFE['features']['tocompare']]\n",
    "        transformedDF = transformationDF.select(\n",
    "            [c for c in transformationDF.columns if c in featuresSelectedList])\n",
    "        transformedDF = CleanseData().replaceNullValues(featureData, transformedDF)\n",
    "\n",
    "        transformedDF.persist(pyspark.StorageLevel.MEMORY_AND_DISK)\n",
    "        df = transformedDF.toPandas()\n",
    "        return df\n"
   ]
  },
  {
   "cell_type": "markdown",
   "id": "20447358",
   "metadata": {},
   "source": [
    "***AUTOML FUNCTIONS***"
   ]
  },
  {
   "cell_type": "code",
   "execution_count": null,
   "id": "af37b708",
   "metadata": {},
   "outputs": [],
   "source": [
    "from prophet import Prophet\n",
    "import pandas as pd\n",
    "\n",
    "\n",
    "def driverManualProphet(df, timeColumn, tocompare):\n",
    "    df.rename(columns={timeColumn: \"ds\", tocompare: \"y\"}, inplace=True)\n",
    "    df['ds'] = df['ds'].astype(str).str[:-6]\n",
    "    df['ds'] = pd.to_datetime(df['ds'])\n",
    "    m = Prophet()\n",
    "    m.fit(df)\n",
    "    future = m.make_future_dataframe(periods=30)\n",
    "    forecast = m.predict(future)\n",
    "    forecast[['ds', 'yhat', 'yhat_lower', 'yhat_upper']].tail()\n",
    "    m.plot(forecast)\n",
    "    return m\n"
   ]
  },
  {
   "cell_type": "markdown",
   "id": "db4ad98b",
   "metadata": {},
   "source": [
    "***READING DATAFRAME***"
   ]
  },
  {
   "cell_type": "code",
   "execution_count": null,
   "id": "2552747c",
   "metadata": {},
   "outputs": [],
   "source": [
    "############## CREATE SPARK SESSION ############################ ENTER YOUR SPARK MASTER IP AND PORT TO CONNECT TO SERVER ################\n",
    "from pyspark.sql import SparkSession\n",
    "spark = SparkSession.builder.master('local[1]').getOrCreate()\n",
    "#%run 910mprophetHooks.ipynb\n",
    "try:\n",
    "\t#sourcePreExecutionHook()\n",
    "\n",
    "\tairpassengertrain = HDFSConnector.fetch(spark, \"{'url': '/FileStore/platform/uploadedSourceFiles/AIRPassengerTrain.csv', 'filename': 'AIRPassengerTrain.csv', 'delimiter': ',', 'file_type': 'Delimeted', 'dbfs_token': '', 'dbfs_domain': '', 'is_header': 'Use Header Line', 'server_url': '/numtraPlatform/NumtraPlatformV3/uploads/platform/', 'results_url': 'http://ml.numtra.com:44040/api/read/hdfs'}\")\n",
    "\n",
    "except Exception as ex: \n",
    "\tlogging.error(ex)\n",
    "#spark.stop()\n"
   ]
  },
  {
   "cell_type": "markdown",
   "id": "84188dd9",
   "metadata": {},
   "source": [
    "***TRANSFORMING DATAFRAME***"
   ]
  },
  {
   "cell_type": "code",
   "execution_count": null,
   "id": "88c6bb8d",
   "metadata": {},
   "outputs": [],
   "source": [
    "#%run 910mprophetHooks.ipynb\n",
    "try:\n",
    "\t#transformationPreExecutionHook()\n",
    "\n",
    "\ttimeseriesfe = TransformationTimeSeriesForecastingMain.run(airpassengertrain, json.dumps( {\"FE\": {\"functionList\": [{\"function\": \"Original\"}], \"stage_attributes\": {}, \"featureList\": [{\"transformationsData\": [{}], \"feature\": \"Month\", \"type\": \"date\", \"selected\": \"True\", \"replaceby\": \"random\", \"stats\": {\"count\": \"\", \"mean\": \"\", \"stddev\": \"\", \"min\": \"\", \"max\": \"\", \"missing\": \"0\"}, \"transformation\": [{\"transformation\": \"novalue\", \"selectedAsDefault\": 1}], \"updatedLabel\": \"Month\"}, {\"transformationsData\": [{\"transformation_label\": \"novalue\"}], \"feature\": \"#Passengers\", \"transformation\": [{\"transformation\": \"novalue\", \"selectedAsDefault\": 1}], \"type\": \"numeric\", \"replaceby\": \"mean\", \"selected\": \"True\", \"stats\": {\"count\": \"144\", \"mean\": \"280.3\", \"stddev\": \"119.97\", \"min\": \"104\", \"max\": \"622\", \"missing\": \"0\"}, \"updatedLabel\": \"#Passengers\"}], \"features\": {\"timecolumn\": \"Month\", \"tocompare\": \"#Passengers\"}, \"dataPercentage\": \"60\", \"originalfile\": \"/FileStore/platform/uploadedSourceFiles/AIRPassengerTrain.csv\", \"statFunction\": {\"function\": \"Original\", \"parameter\": \"\"}}}))\n",
    "\n",
    "\t#transformationPostExecutionHook(timeseriesfe)\n",
    "\n",
    "except Exception as ex: \n",
    "\tlogging.error(ex)\n",
    "spark.stop()\n"
   ]
  },
  {
   "cell_type": "markdown",
   "id": "3cf2c6cc",
   "metadata": {},
   "source": [
    "***TRAIN MODEL***"
   ]
  },
  {
   "cell_type": "code",
   "execution_count": null,
   "id": "492febc1",
   "metadata": {},
   "outputs": [],
   "source": [
    "#%run 910mprophetHooks.ipynb\n",
    "try:\n",
    "\t#mlPreExecutionHook()\n",
    "\n",
    "\tmodelData = driverManualProphet(timeseriesfe, 'Month', '#Passengers')\n",
    "\n",
    "\t#mlPostExecutionHook(model)\n",
    "\n",
    "except Exception as ex: \n",
    "\tlogging.error(ex)\n",
    "spark.stop()\n"
   ]
  }
 ],
 "metadata": {},
 "nbformat": 4,
 "nbformat_minor": 5
}
